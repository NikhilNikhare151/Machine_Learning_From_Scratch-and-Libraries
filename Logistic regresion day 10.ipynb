{
 "cells": [
  {
   "cell_type": "code",
   "execution_count": 1,
   "id": "606abb67-5f0f-423d-a5dc-07a1843d6c52",
   "metadata": {},
   "outputs": [],
   "source": [
    "import numpy as np\n",
    "import pandas as pd\n",
    "from sklearn.preprocessing import StandardScaler"
   ]
  },
  {
   "cell_type": "code",
   "execution_count": 2,
   "id": "2cd450d5-47e6-4b8f-b7e4-f0bd71399900",
   "metadata": {},
   "outputs": [],
   "source": [
    "df=pd.read_excel(\"insurance data.xlsx\")"
   ]
  },
  {
   "cell_type": "code",
   "execution_count": 3,
   "id": "ddcf0b25-45cc-4517-81b7-3aecaab5099b",
   "metadata": {},
   "outputs": [
    {
     "data": {
      "text/html": [
       "<div>\n",
       "<style scoped>\n",
       "    .dataframe tbody tr th:only-of-type {\n",
       "        vertical-align: middle;\n",
       "    }\n",
       "\n",
       "    .dataframe tbody tr th {\n",
       "        vertical-align: top;\n",
       "    }\n",
       "\n",
       "    .dataframe thead th {\n",
       "        text-align: right;\n",
       "    }\n",
       "</style>\n",
       "<table border=\"1\" class=\"dataframe\">\n",
       "  <thead>\n",
       "    <tr style=\"text-align: right;\">\n",
       "      <th></th>\n",
       "      <th>Unnamed: 0</th>\n",
       "      <th>Unnamed: 1</th>\n",
       "    </tr>\n",
       "  </thead>\n",
       "  <tbody>\n",
       "    <tr>\n",
       "      <th>0</th>\n",
       "      <td>Age</td>\n",
       "      <td>Insurance</td>\n",
       "    </tr>\n",
       "    <tr>\n",
       "      <th>1</th>\n",
       "      <td>12</td>\n",
       "      <td>0</td>\n",
       "    </tr>\n",
       "    <tr>\n",
       "      <th>2</th>\n",
       "      <td>15</td>\n",
       "      <td>0</td>\n",
       "    </tr>\n",
       "    <tr>\n",
       "      <th>3</th>\n",
       "      <td>16</td>\n",
       "      <td>0</td>\n",
       "    </tr>\n",
       "    <tr>\n",
       "      <th>4</th>\n",
       "      <td>24</td>\n",
       "      <td>0</td>\n",
       "    </tr>\n",
       "  </tbody>\n",
       "</table>\n",
       "</div>"
      ],
      "text/plain": [
       "  Unnamed: 0 Unnamed: 1\n",
       "0        Age  Insurance\n",
       "1         12          0\n",
       "2         15          0\n",
       "3         16          0\n",
       "4         24          0"
      ]
     },
     "execution_count": 3,
     "metadata": {},
     "output_type": "execute_result"
    }
   ],
   "source": [
    "df.head()"
   ]
  },
  {
   "cell_type": "code",
   "execution_count": 4,
   "id": "fa1778b8-6095-46af-a6de-7259728ad7e9",
   "metadata": {},
   "outputs": [],
   "source": [
    "df.columns = df.iloc[0]"
   ]
  },
  {
   "cell_type": "code",
   "execution_count": 5,
   "id": "120f147d-7cd9-4051-8882-25f077f0cc87",
   "metadata": {},
   "outputs": [],
   "source": [
    "df.drop(0,axis=0,inplace=True)"
   ]
  },
  {
   "cell_type": "code",
   "execution_count": 6,
   "id": "17b4ab8e-8351-4b1d-9645-d1d54dc96786",
   "metadata": {},
   "outputs": [
    {
     "data": {
      "text/html": [
       "<div>\n",
       "<style scoped>\n",
       "    .dataframe tbody tr th:only-of-type {\n",
       "        vertical-align: middle;\n",
       "    }\n",
       "\n",
       "    .dataframe tbody tr th {\n",
       "        vertical-align: top;\n",
       "    }\n",
       "\n",
       "    .dataframe thead th {\n",
       "        text-align: right;\n",
       "    }\n",
       "</style>\n",
       "<table border=\"1\" class=\"dataframe\">\n",
       "  <thead>\n",
       "    <tr style=\"text-align: right;\">\n",
       "      <th></th>\n",
       "      <th>Age</th>\n",
       "      <th>Insurance</th>\n",
       "    </tr>\n",
       "  </thead>\n",
       "  <tbody>\n",
       "    <tr>\n",
       "      <th>1</th>\n",
       "      <td>12</td>\n",
       "      <td>0</td>\n",
       "    </tr>\n",
       "    <tr>\n",
       "      <th>2</th>\n",
       "      <td>15</td>\n",
       "      <td>0</td>\n",
       "    </tr>\n",
       "    <tr>\n",
       "      <th>3</th>\n",
       "      <td>16</td>\n",
       "      <td>0</td>\n",
       "    </tr>\n",
       "    <tr>\n",
       "      <th>4</th>\n",
       "      <td>24</td>\n",
       "      <td>0</td>\n",
       "    </tr>\n",
       "    <tr>\n",
       "      <th>5</th>\n",
       "      <td>25</td>\n",
       "      <td>0</td>\n",
       "    </tr>\n",
       "  </tbody>\n",
       "</table>\n",
       "</div>"
      ],
      "text/plain": [
       "0 Age Insurance\n",
       "1  12         0\n",
       "2  15         0\n",
       "3  16         0\n",
       "4  24         0\n",
       "5  25         0"
      ]
     },
     "execution_count": 6,
     "metadata": {},
     "output_type": "execute_result"
    }
   ],
   "source": [
    "df.head()"
   ]
  },
  {
   "cell_type": "code",
   "execution_count": 7,
   "id": "9643e062-83d2-4bbd-abb6-982143627288",
   "metadata": {},
   "outputs": [],
   "source": [
    "lr=0.1\n",
    "epochs=1000"
   ]
  },
  {
   "cell_type": "code",
   "execution_count": 8,
   "id": "a143bb5e-a6c9-462b-b6d7-ec19af60955f",
   "metadata": {},
   "outputs": [
    {
     "data": {
      "text/plain": [
       "(-0.6624376805001805, 0.5877877578544601)"
      ]
     },
     "execution_count": 8,
     "metadata": {},
     "output_type": "execute_result"
    }
   ],
   "source": [
    "m= np.random.randn()\n",
    "c=np.random.randn()\n",
    "m,c"
   ]
  },
  {
   "cell_type": "code",
   "execution_count": 9,
   "id": "4fbeffb5-3b78-480b-839a-6afec59f49f6",
   "metadata": {},
   "outputs": [],
   "source": [
    "x=df[\"Age\"]\n",
    "y=df[\"Insurance\"]"
   ]
  },
  {
   "cell_type": "code",
   "execution_count": 10,
   "id": "46a62678-6210-4ba6-b3fb-929ffefa13de",
   "metadata": {},
   "outputs": [],
   "source": [
    "scalar = StandardScaler()\n",
    "scaled_x = scalar.fit_transform(df[[\"Age\"]])"
   ]
  },
  {
   "cell_type": "code",
   "execution_count": 11,
   "id": "824a413a-4140-4f86-8bfa-b08daaa9e6eb",
   "metadata": {},
   "outputs": [],
   "source": [
    "def sigmoid(z):\n",
    "    return 1 / (1+np.exp(-z))"
   ]
  },
  {
   "cell_type": "code",
   "execution_count": 12,
   "id": "f4583573-ddcb-444e-b549-18a0360014e9",
   "metadata": {},
   "outputs": [],
   "source": [
    "loss = []"
   ]
  },
  {
   "cell_type": "code",
   "execution_count": 13,
   "id": "ee2f1605-23f3-4cd9-ae43-27e0917b4a5e",
   "metadata": {},
   "outputs": [],
   "source": [
    "for i in range(epochs):\n",
    "    z = m*scaled_x.ravel()+c\n",
    "    pred = sigmoid(z)\n",
    "\n",
    "    loss.append(- np.sum(y * np.log(pred)+(1-y) * np.log(1-pred)))\n",
    "\n",
    "    m_slope = np.mean(scaled_x.ravel() * (pred-y))\n",
    "    c_slope = np.mean(pred-y)\n",
    "\n",
    "    m= m - (lr * m_slope)\n",
    "    c= c - (lr * c_slope)"
   ]
  },
  {
   "cell_type": "code",
   "execution_count": 14,
   "id": "a36b7353-3d8c-4f59-a6db-f2630e8b7af4",
   "metadata": {},
   "outputs": [
    {
     "data": {
      "text/plain": [
       "(np.float64(1.4790292972406625), np.float64(0.4648617053948562))"
      ]
     },
     "execution_count": 14,
     "metadata": {},
     "output_type": "execute_result"
    }
   ],
   "source": [
    "m,c"
   ]
  },
  {
   "cell_type": "code",
   "execution_count": null,
   "id": "39859d7d-0d25-4808-8e5b-44729cf4c230",
   "metadata": {},
   "outputs": [],
   "source": []
  }
 ],
 "metadata": {
  "kernelspec": {
   "display_name": "Python 3 (ipykernel)",
   "language": "python",
   "name": "python3"
  },
  "language_info": {
   "codemirror_mode": {
    "name": "ipython",
    "version": 3
   },
   "file_extension": ".py",
   "mimetype": "text/x-python",
   "name": "python",
   "nbconvert_exporter": "python",
   "pygments_lexer": "ipython3",
   "version": "3.11.9"
  }
 },
 "nbformat": 4,
 "nbformat_minor": 5
}
