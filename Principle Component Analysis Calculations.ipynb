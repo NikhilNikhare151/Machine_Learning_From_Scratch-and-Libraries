{
 "cells": [
  {
   "cell_type": "markdown",
   "id": "2440a657-0f81-41ba-bad4-0bd49631719a",
   "metadata": {},
   "source": [
    "# Principle Component Analysis Calculations"
   ]
  },
  {
   "cell_type": "code",
   "execution_count": 5,
   "id": "0fa57be9-5af2-4933-9e42-726766202d57",
   "metadata": {},
   "outputs": [],
   "source": [
    "import numpy as np\n",
    "import pandas as pd\n",
    "import matplotlib.pyplot as plt\n",
    "import seaborn as sns\n",
    "\n",
    "import warnings\n",
    "warnings.filterwarnings(\"ignore\")"
   ]
  },
  {
   "cell_type": "code",
   "execution_count": 8,
   "id": "33a00118-2eaf-4a51-9aba-3a0faf658990",
   "metadata": {},
   "outputs": [],
   "source": [
    "x1 = np.array([2.45,0.23,3.53,6.94,3.12,9.32,0.63])\n",
    "x2 = np.array([4.95,3.84,4.99,7.22,5.25,8.03,2.42])"
   ]
  },
  {
   "cell_type": "code",
   "execution_count": 10,
   "id": "0b414638-ae88-4450-a8dc-272ce6f02361",
   "metadata": {},
   "outputs": [
    {
     "data": {
      "image/png": "[encoded data removed]",
      "text/plain": [
       "<Figure size 400x300 with 1 Axes>"
      ]
     },
     "metadata": {},
     "output_type": "display_data"
    }
   ],
   "source": [
    "plt.figure(figsize=(4,3))\n",
    "plt.scatter(x1,x2)\n",
    "plt.xlabel(\"X1\")\n",
    "plt.ylabel(\"X2\")\n",
    "plt.show()"
   ]
  },
  {
   "cell_type": "code",
   "execution_count": 11,
   "id": "f0bbe938-b326-463c-8ab4-4442a934bf5f",
   "metadata": {},
   "outputs": [],
   "source": [
    "x1_mean = x1.mean()\n",
    "x2_mean = x2.mean()"
   ]
  },
  {
   "cell_type": "code",
   "execution_count": 12,
   "id": "a4a0d169-57f9-4f67-98e4-6fbd74ec470b",
   "metadata": {},
   "outputs": [
    {
     "data": {
      "text/plain": [
       "np.float64(3.7457142857142856)"
      ]
     },
     "execution_count": 12,
     "metadata": {},
     "output_type": "execute_result"
    }
   ],
   "source": [
    "x1_mean"
   ]
  },
  {
   "cell_type": "code",
   "execution_count": 13,
   "id": "1fcdfeed-c298-44a5-9d83-71bfb1951724",
   "metadata": {},
   "outputs": [
    {
     "data": {
      "text/plain": [
       "np.float64(5.242857142857143)"
      ]
     },
     "execution_count": 13,
     "metadata": {},
     "output_type": "execute_result"
    }
   ],
   "source": [
    "x2_mean"
   ]
  },
  {
   "cell_type": "code",
   "execution_count": 14,
   "id": "53a7a016-a2fc-4943-8150-219c68ac46cf",
   "metadata": {},
   "outputs": [],
   "source": [
    "x1 = x1_mean - x1\n",
    "x2 = x2_mean - x2"
   ]
  },
  {
   "cell_type": "code",
   "execution_count": 15,
   "id": "972b5751-170d-4dd9-81c1-66e95d8dced5",
   "metadata": {},
   "outputs": [
    {
     "data": {
      "text/plain": [
       "array([ 1.29571429,  3.51571429,  0.21571429, -3.19428571,  0.62571429,\n",
       "       -5.57428571,  3.11571429])"
      ]
     },
     "execution_count": 15,
     "metadata": {},
     "output_type": "execute_result"
    }
   ],
   "source": [
    "x1"
   ]
  },
  {
   "cell_type": "code",
   "execution_count": 16,
   "id": "f3961832-125b-4081-b5f5-e5ed8e51c891",
   "metadata": {},
   "outputs": [
    {
     "data": {
      "text/plain": [
       "array([ 0.29285714,  1.40285714,  0.25285714, -1.97714286, -0.00714286,\n",
       "       -2.78714286,  2.82285714])"
      ]
     },
     "execution_count": 16,
     "metadata": {},
     "output_type": "execute_result"
    }
   ],
   "source": [
    "x2"
   ]
  },
  {
   "cell_type": "code",
   "execution_count": 18,
   "id": "af547757-c74f-4555-9b39-7dcbdfe032e4",
   "metadata": {},
   "outputs": [],
   "source": [
    "corr_coef = np.corrcoef(x1, x2)"
   ]
  },
  {
   "cell_type": "code",
   "execution_count": 19,
   "id": "d7909da9-7374-49fd-b3b0-617a281bdf10",
   "metadata": {},
   "outputs": [
    {
     "data": {
      "text/plain": [
       "array([[1.        , 0.95400632],\n",
       "       [0.95400632, 1.        ]])"
      ]
     },
     "execution_count": 19,
     "metadata": {},
     "output_type": "execute_result"
    }
   ],
   "source": [
    "corr_coef"
   ]
  },
  {
   "cell_type": "code",
   "execution_count": 20,
   "id": "04a1eca1-6f37-42da-bf23-c0bdea052c78",
   "metadata": {},
   "outputs": [],
   "source": [
    "eig_value, eig_vector = np.linalg.eig(corr_coef)"
   ]
  },
  {
   "cell_type": "code",
   "execution_count": 21,
   "id": "5411f1af-3299-405a-9658-c2890d66186a",
   "metadata": {},
   "outputs": [
    {
     "data": {
      "text/plain": [
       "array([1.95400632, 0.04599368])"
      ]
     },
     "execution_count": 21,
     "metadata": {},
     "output_type": "execute_result"
    }
   ],
   "source": [
    "eig_value"
   ]
  },
  {
   "cell_type": "code",
   "execution_count": 22,
   "id": "719b738e-8699-484e-8168-426a8dea8a5c",
   "metadata": {},
   "outputs": [
    {
     "data": {
      "text/plain": [
       "array([[ 0.70710678, -0.70710678],\n",
       "       [ 0.70710678,  0.70710678]])"
      ]
     },
     "execution_count": 22,
     "metadata": {},
     "output_type": "execute_result"
    }
   ],
   "source": [
    "eig_vector"
   ]
  },
  {
   "cell_type": "code",
   "execution_count": 23,
   "id": "fc48c857-a32f-467e-9b6e-381d7b3bfd18",
   "metadata": {},
   "outputs": [
    {
     "data": {
      "text/plain": [
       "array([[ 1.29571429,  0.29285714],\n",
       "       [ 3.51571429,  1.40285714],\n",
       "       [ 0.21571429,  0.25285714],\n",
       "       [-3.19428571, -1.97714286],\n",
       "       [ 0.62571429, -0.00714286],\n",
       "       [-5.57428571, -2.78714286],\n",
       "       [ 3.11571429,  2.82285714]])"
      ]
     },
     "execution_count": 23,
     "metadata": {},
     "output_type": "execute_result"
    }
   ],
   "source": [
    "data = np.append(x1.reshape(-1,1), x2.reshape(-1,1),axis=1)\n",
    "data"
   ]
  },
  {
   "cell_type": "code",
   "execution_count": 24,
   "id": "48b87333-dbb2-4e46-b8a8-acaa145b2ebe",
   "metadata": {},
   "outputs": [],
   "source": [
    "principal_components = np.dot(data, eig_vector)"
   ]
  },
  {
   "cell_type": "code",
   "execution_count": 25,
   "id": "90607373-d75d-4a69-a381-10ba4463526d",
   "metadata": {},
   "outputs": [
    {
     "data": {
      "text/plain": [
       "array([[ 1.12328963, -0.70912709],\n",
       "       [ 3.47795521, -1.49401561],\n",
       "       [ 0.33133003,  0.02626397],\n",
       "       [-3.65675221,  0.86064997],\n",
       "       [ 0.43739605, -0.44749758],\n",
       "       [-5.91242284,  1.97080761],\n",
       "       [ 4.19920413, -0.20708127]])"
      ]
     },
     "execution_count": 25,
     "metadata": {},
     "output_type": "execute_result"
    }
   ],
   "source": [
    "principal_components"
   ]
  },
  {
   "cell_type": "code",
   "execution_count": 26,
   "id": "c1a3d160-b868-43a2-a770-39bb9c345296",
   "metadata": {},
   "outputs": [
    {
     "data": {
      "text/plain": [
       "array([ 1.12328963,  3.47795521,  0.33133003, -3.65675221,  0.43739605,\n",
       "       -5.91242284,  4.19920413])"
      ]
     },
     "execution_count": 26,
     "metadata": {},
     "output_type": "execute_result"
    }
   ],
   "source": [
    "principal_components[:,0]"
   ]
  },
  {
   "cell_type": "markdown",
   "id": "26c963cc-0253-40a3-b1ca-5d5f35a773ef",
   "metadata": {},
   "source": [
    "* first principle component"
   ]
  },
  {
   "cell_type": "code",
   "execution_count": 27,
   "id": "7e9ad779-9728-48f8-8606-8af94d1ecf61",
   "metadata": {},
   "outputs": [
    {
     "data": {
      "text/plain": [
       "array([-0.70912709, -1.49401561,  0.02626397,  0.86064997, -0.44749758,\n",
       "        1.97080761, -0.20708127])"
      ]
     },
     "execution_count": 27,
     "metadata": {},
     "output_type": "execute_result"
    }
   ],
   "source": [
    "principal_components[:,1]"
   ]
  },
  {
   "cell_type": "markdown",
   "id": "487da4b5-60d6-48f6-80af-be22fcd35300",
   "metadata": {},
   "source": [
    "* second principle component"
   ]
  },
  {
   "cell_type": "code",
   "execution_count": null,
   "id": "7087c41c-0cce-4787-9c38-b1ab8bf97fc2",
   "metadata": {},
   "outputs": [],
   "source": []
  }
 ],
 "metadata": {
  "kernelspec": {
   "display_name": "Python 3 (ipykernel)",
   "language": "python",
   "name": "python3"
  },
  "language_info": {
   "codemirror_mode": {
    "name": "ipython",
    "version": 3
   },
   "file_extension": ".py",
   "mimetype": "text/x-python",
   "name": "python",
   "nbconvert_exporter": "python",
   "pygments_lexer": "ipython3",
   "version": "3.11.9"
  }
 },
 "nbformat": 4,
 "nbformat_minor": 5
}
