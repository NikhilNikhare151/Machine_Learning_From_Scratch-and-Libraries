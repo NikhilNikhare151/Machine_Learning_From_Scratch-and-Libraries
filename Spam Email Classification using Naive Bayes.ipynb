{
 "cells": [
  {
   "cell_type": "markdown",
   "id": "49eb767c-5709-4f6d-996e-93ee75bdd0bd",
   "metadata": {},
   "source": [
    "# Spam Email Classification using Naive Bayes"
   ]
  },
  {
   "cell_type": "markdown",
   "id": "48531ff7-acd1-440f-8bc0-7a01cf2855ae",
   "metadata": {},
   "source": [
    "Naive Bayes is a simple and effective machine learning algorithm based on Bayes' Theorem. It is particularly useful for classification problems involving text data, such as spam detection, sentiment analysis, and document classification"
   ]
  },
  {
   "cell_type": "markdown",
   "id": "f40f6bd4-aa3a-411d-bf79-ac59ef63d43f",
   "metadata": {},
   "source": [
    "> Types of Naive Bayes Classifiers:\n",
    "\n",
    "* Gaussian Naive Bayes:\n",
    "    * Assumes features follow a normal distribution.\n",
    "    * Suitable for continuous data.\n",
    "* Multinomial Naive Bayes:\n",
    "    * Suitable for discrete data like word counts or term frequencies in text.\n",
    "* Bernoulli Naive Bayes:\n",
    "    * Designed for binary data (presence/absence of features)."
   ]
  },
  {
   "cell_type": "markdown",
   "id": "66de0bf1-ec5c-4134-a545-0e9337687a9b",
   "metadata": {},
   "source": [
    "> Advantages\n",
    "* Simple and fast to implement.\n",
    "* Works well with small datasets.\n",
    "* Effective for high-dimensional data (e.g., text).\n",
    "\n",
    "> Limitations\n",
    "* Relies on the assumption of feature independence, which may not hold in all cases.\n",
    "* Performs poorly when features are highly correlated."
   ]
  },
  {
   "cell_type": "code",
   "execution_count": 2,
   "id": "93006117-22fc-4505-b8ec-bcfc44163bd3",
   "metadata": {},
   "outputs": [],
   "source": [
    "import numpy as np\n",
    "import pandas as pd\n",
    "import matplotlib.pyplot as plt\n",
    "import seaborn as sns\n",
    "\n",
    "from sklearn.feature_extraction.text import CountVectorizer\n",
    "from sklearn.naive_bayes import MultinomialNB\n",
    "from sklearn.metrics import accuracy_score,classification_report,confusion_matrix\n",
    "from sklearn.model_selection import train_test_split,cross_val_score,KFold\n",
    "\n",
    "import warnings\n",
    "warnings.filterwarnings(\"ignore\")"
   ]
  },
  {
   "cell_type": "code",
   "execution_count": 9,
   "id": "f8e9c38b-9c0c-4a13-8e31-0603643ccfbb",
   "metadata": {},
   "outputs": [],
   "source": [
    "email_data = [\n",
    "    (\"Congratulations! You won a $1000 gift card.\", 1),\n",
    "    (\"Meeting at 3 PM tomorrow in the office.\", 0),\n",
    "    (\"Get cheap loans instantly! No credit check required.\", 1),\n",
    "    (\"Your Amazon order has been shipped.\", 0),\n",
    "    (\"Limited time offer! Click here to claim your prize.\", 1),\n",
    "    (\"Can we discuss the project report today?\", 0),\n",
    "    (\"You have been selected for an exclusive deal!\", 1),\n",
    "    (\"Family dinner is planned for Saturday evening.\", 0),\n",
    "    (\"Earn $5000 working from home. Apply now!\", 1),\n",
    "    (\"Please review the attached document before our call.\", 0),\n",
    "    (\"Urgent: Update your account information to avoid suspension.\", 1),\n",
    "    (\"Thanks for your help with the presentation.\", 0),\n",
    "    (\"Win a free vacation to the Bahamas! Act now.\", 1),\n",
    "    (\"Do you want to grab lunch tomorrow?\", 0),\n",
    "    (\"Final warning: Your account will be deactivated.\", 1),\n",
    "    (\"Your package will be delivered by 5 PM.\", 0),\n",
    "    (\"Exclusive offer: Save 80% on luxury watches.\", 1),\n",
    "    (\"Don't forget to submit your assignment.\", 0),\n",
    "    (\"Claim your free gift card before it's too late.\", 1),\n",
    "    (\"I'll send you the meeting notes shortly.\", 0),\n",
    "    (\"Huge discounts on electronics! Limited stock available.\", 1),\n",
    "    (\"Can you check the project proposal draft?\", 0),\n",
    "    (\"Important: Verify your identity to secure your account.\", 1),\n",
    "    (\"Looking forward to catching up this weekend.\", 0),\n",
    "    (\"You've won a free iPhone! Click to claim now.\", 1),\n",
    "    (\"Please approve the budget request for Q4.\", 0),\n",
    "    (\"Make money fast! No investment required.\", 1),\n",
    "    (\"Happy Birthday! Have a wonderful day.\", 0),\n",
    "    (\"Urgent: Confirm your email to receive your prize.\", 1),\n",
    "    (\"Let's finalize the agenda for the team meeting.\", 0),\n",
    "    (\"Free trial of premium services! Sign up today.\", 1),\n",
    "    (\"Thank you for attending the seminar.\", 0),\n",
    "    (\"Act now: Get rich quick with this secret method!\", 1),\n",
    "    (\"Here's the invoice for your records.\", 0),\n",
    "    (\"Limited stock: Order now and save big!\", 1),\n",
    "    (\"Can you help me with this Excel formula?\", 0),\n",
    "    (\"Win big cash prizes! Enter the sweepstakes now.\", 1),\n",
    "    (\"Are you available for a quick call later?\", 0),\n",
    "    (\"Exclusive deal just for you! Don't miss out.\", 1),\n",
    "    (\"We appreciate your feedback on our service.\", 0),\n",
    "    (\"Click here to unlock your full credit score.\", 1),\n",
    "    (\"Team meeting rescheduled to 2 PM.\", 0),\n",
    "    (\"New crypto investment opportunity! Double your money.\", 1),\n",
    "    (\"Check out the latest updates on the project.\", 0),\n",
    "    (\"Urgent: Pay now to avoid legal action.\", 1),\n",
    "    (\"Can you join the Zoom call at 10 AM?\", 0),\n",
    "    (\"Earn rewards for every purchase you make!\", 1),\n",
    "    (\"Let's prepare for the quarterly review meeting.\", 0),\n",
    "    (\"Special offer: Lose weight fast with this one trick.\", 1),\n",
    "    (\"I'll send over the revised report by EOD.\", 0),\n",
    "]\n"
   ]
  },
  {
   "cell_type": "code",
   "execution_count": 10,
   "id": "dd7bde43-3db9-470d-9259-e44f8f3732f6",
   "metadata": {},
   "outputs": [],
   "source": [
    "emails = [x[0] for x in email_data]"
   ]
  },
  {
   "cell_type": "code",
   "execution_count": 11,
   "id": "3c116d14-aa67-4290-b56d-82510fb62204",
   "metadata": {
    "scrolled": true
   },
   "outputs": [
    {
     "data": {
      "text/plain": [
       "['Congratulations! You won a $1000 gift card.',\n",
       " 'Meeting at 3 PM tomorrow in the office.',\n",
       " 'Get cheap loans instantly! No credit check required.',\n",
       " 'Your Amazon order has been shipped.',\n",
       " 'Limited time offer! Click here to claim your prize.',\n",
       " 'Can we discuss the project report today?',\n",
       " 'You have been selected for an exclusive deal!',\n",
       " 'Family dinner is planned for Saturday evening.',\n",
       " 'Earn $5000 working from home. Apply now!',\n",
       " 'Please review the attached document before our call.',\n",
       " 'Urgent: Update your account information to avoid suspension.',\n",
       " 'Thanks for your help with the presentation.',\n",
       " 'Win a free vacation to the Bahamas! Act now.',\n",
       " 'Do you want to grab lunch tomorrow?',\n",
       " 'Final warning: Your account will be deactivated.',\n",
       " 'Your package will be delivered by 5 PM.',\n",
       " 'Exclusive offer: Save 80% on luxury watches.',\n",
       " \"Don't forget to submit your assignment.\",\n",
       " \"Claim your free gift card before it's too late.\",\n",
       " \"I'll send you the meeting notes shortly.\",\n",
       " 'Huge discounts on electronics! Limited stock available.',\n",
       " 'Can you check the project proposal draft?',\n",
       " 'Important: Verify your identity to secure your account.',\n",
       " 'Looking forward to catching up this weekend.',\n",
       " \"You've won a free iPhone! Click to claim now.\",\n",
       " 'Please approve the budget request for Q4.',\n",
       " 'Make money fast! No investment required.',\n",
       " 'Happy Birthday! Have a wonderful day.',\n",
       " 'Urgent: Confirm your email to receive your prize.',\n",
       " \"Let's finalize the agenda for the team meeting.\",\n",
       " 'Free trial of premium services! Sign up today.',\n",
       " 'Thank you for attending the seminar.',\n",
       " 'Act now: Get rich quick with this secret method!',\n",
       " \"Here's the invoice for your records.\",\n",
       " 'Limited stock: Order now and save big!',\n",
       " 'Can you help me with this Excel formula?',\n",
       " 'Win big cash prizes! Enter the sweepstakes now.',\n",
       " 'Are you available for a quick call later?',\n",
       " \"Exclusive deal just for you! Don't miss out.\",\n",
       " 'We appreciate your feedback on our service.',\n",
       " 'Click here to unlock your full credit score.',\n",
       " 'Team meeting rescheduled to 2 PM.',\n",
       " 'New crypto investment opportunity! Double your money.',\n",
       " 'Check out the latest updates on the project.',\n",
       " 'Urgent: Pay now to avoid legal action.',\n",
       " 'Can you join the Zoom call at 10 AM?',\n",
       " 'Earn rewards for every purchase you make!',\n",
       " \"Let's prepare for the quarterly review meeting.\",\n",
       " 'Special offer: Lose weight fast with this one trick.',\n",
       " \"I'll send over the revised report by EOD.\"]"
      ]
     },
     "execution_count": 11,
     "metadata": {},
     "output_type": "execute_result"
    }
   ],
   "source": [
    "emails"
   ]
  },
  {
   "cell_type": "code",
   "execution_count": 16,
   "id": "eb0ccca1-7640-49c1-8fb9-a85a9d11c44a",
   "metadata": {},
   "outputs": [],
   "source": [
    "vactor = CountVectorizer(stop_words=\"english\")"
   ]
  },
  {
   "cell_type": "code",
   "execution_count": 17,
   "id": "4f1ead2f-d3da-4f09-b1bb-0b039197f54f",
   "metadata": {},
   "outputs": [],
   "source": [
    "text_to_vec = vactor.fit_transform(emails)"
   ]
  },
  {
   "cell_type": "code",
   "execution_count": 18,
   "id": "3589009b-ee72-4182-af40-953d0bdf1c0e",
   "metadata": {
    "scrolled": true
   },
   "outputs": [
    {
     "data": {
      "text/plain": [
       "{'congratulations': 29,\n",
       " 'won': 162,\n",
       " '1000': 1,\n",
       " 'gift': 60,\n",
       " 'card': 21,\n",
       " 'meeting': 88,\n",
       " 'pm': 101,\n",
       " 'tomorrow': 146,\n",
       " 'office': 95,\n",
       " 'cheap': 24,\n",
       " 'loans': 82,\n",
       " 'instantly': 69,\n",
       " 'credit': 30,\n",
       " 'check': 25,\n",
       " 'required': 117,\n",
       " 'amazon': 8,\n",
       " 'order': 97,\n",
       " 'shipped': 133,\n",
       " 'limited': 80,\n",
       " 'time': 144,\n",
       " 'offer': 94,\n",
       " 'click': 27,\n",
       " 'claim': 26,\n",
       " 'prize': 105,\n",
       " 'discuss': 38,\n",
       " 'project': 107,\n",
       " 'report': 115,\n",
       " 'today': 145,\n",
       " 'selected': 128,\n",
       " 'exclusive': 50,\n",
       " 'deal': 34,\n",
       " 'family': 51,\n",
       " 'dinner': 36,\n",
       " 'planned': 100,\n",
       " 'saturday': 123,\n",
       " 'evening': 48,\n",
       " 'earn': 43,\n",
       " '5000': 2,\n",
       " 'working': 164,\n",
       " 'home': 64,\n",
       " 'apply': 9,\n",
       " 'review': 119,\n",
       " 'attached': 13,\n",
       " 'document': 39,\n",
       " 'urgent': 152,\n",
       " 'update': 150,\n",
       " 'account': 4,\n",
       " 'information': 68,\n",
       " 'avoid': 16,\n",
       " 'suspension': 139,\n",
       " 'thanks': 143,\n",
       " 'help': 63,\n",
       " 'presentation': 104,\n",
       " 'win': 161,\n",
       " 'free': 59,\n",
       " 'vacation': 153,\n",
       " 'bahamas': 17,\n",
       " 'act': 5,\n",
       " 'want': 156,\n",
       " 'grab': 61,\n",
       " 'lunch': 85,\n",
       " 'final': 54,\n",
       " 'warning': 157,\n",
       " 'deactivated': 33,\n",
       " 'package': 98,\n",
       " 'delivered': 35,\n",
       " 'save': 124,\n",
       " '80': 3,\n",
       " 'luxury': 86,\n",
       " 'watches': 158,\n",
       " 'don': 40,\n",
       " 'forget': 56,\n",
       " 'submit': 138,\n",
       " 'assignment': 12,\n",
       " 'late': 75,\n",
       " 'll': 81,\n",
       " 'send': 130,\n",
       " 'notes': 93,\n",
       " 'shortly': 134,\n",
       " 'huge': 65,\n",
       " 'discounts': 37,\n",
       " 'electronics': 44,\n",
       " 'stock': 137,\n",
       " 'available': 15,\n",
       " 'proposal': 108,\n",
       " 'draft': 42,\n",
       " 'important': 67,\n",
       " 'verify': 155,\n",
       " 'identity': 66,\n",
       " 'secure': 127,\n",
       " 'looking': 83,\n",
       " 'forward': 58,\n",
       " 'catching': 23,\n",
       " 'weekend': 159,\n",
       " 've': 154,\n",
       " 'iphone': 72,\n",
       " 'approve': 11,\n",
       " 'budget': 20,\n",
       " 'request': 116,\n",
       " 'q4': 110,\n",
       " 'make': 87,\n",
       " 'money': 91,\n",
       " 'fast': 52,\n",
       " 'investment': 70,\n",
       " 'happy': 62,\n",
       " 'birthday': 19,\n",
       " 'wonderful': 163,\n",
       " 'day': 32,\n",
       " 'confirm': 28,\n",
       " 'email': 45,\n",
       " 'receive': 113,\n",
       " 'let': 79,\n",
       " 'finalize': 55,\n",
       " 'agenda': 7,\n",
       " 'team': 141,\n",
       " 'trial': 147,\n",
       " 'premium': 102,\n",
       " 'services': 132,\n",
       " 'sign': 135,\n",
       " 'thank': 142,\n",
       " 'attending': 14,\n",
       " 'seminar': 129,\n",
       " 'rich': 122,\n",
       " 'quick': 112,\n",
       " 'secret': 126,\n",
       " 'method': 89,\n",
       " 'invoice': 71,\n",
       " 'records': 114,\n",
       " 'big': 18,\n",
       " 'excel': 49,\n",
       " 'formula': 57,\n",
       " 'cash': 22,\n",
       " 'prizes': 106,\n",
       " 'enter': 46,\n",
       " 'sweepstakes': 140,\n",
       " 'later': 76,\n",
       " 'just': 74,\n",
       " 'miss': 90,\n",
       " 'appreciate': 10,\n",
       " 'feedback': 53,\n",
       " 'service': 131,\n",
       " 'unlock': 149,\n",
       " 'score': 125,\n",
       " 'rescheduled': 118,\n",
       " 'new': 92,\n",
       " 'crypto': 31,\n",
       " 'opportunity': 96,\n",
       " 'double': 41,\n",
       " 'latest': 77,\n",
       " 'updates': 151,\n",
       " 'pay': 99,\n",
       " 'legal': 78,\n",
       " 'action': 6,\n",
       " 'join': 73,\n",
       " 'zoom': 165,\n",
       " '10': 0,\n",
       " 'rewards': 121,\n",
       " 'purchase': 109,\n",
       " 'prepare': 103,\n",
       " 'quarterly': 111,\n",
       " 'special': 136,\n",
       " 'lose': 84,\n",
       " 'weight': 160,\n",
       " 'trick': 148,\n",
       " 'revised': 120,\n",
       " 'eod': 47}"
      ]
     },
     "execution_count": 18,
     "metadata": {},
     "output_type": "execute_result"
    }
   ],
   "source": [
    "vactor.vocabulary_"
   ]
  },
  {
   "cell_type": "code",
   "execution_count": 25,
   "id": "da93a70a-bcdc-443d-8ecf-9b0b5c8dee89",
   "metadata": {},
   "outputs": [],
   "source": [
    "labels = [x[1] for x in email_data]"
   ]
  },
  {
   "cell_type": "code",
   "execution_count": 26,
   "id": "5747f911-6dce-4ed0-b6af-0f4f5ee1d556",
   "metadata": {},
   "outputs": [
    {
     "data": {
      "text/plain": [
       "[1,\n",
       " 0,\n",
       " 1,\n",
       " 0,\n",
       " 1,\n",
       " 0,\n",
       " 1,\n",
       " 0,\n",
       " 1,\n",
       " 0,\n",
       " 1,\n",
       " 0,\n",
       " 1,\n",
       " 0,\n",
       " 1,\n",
       " 0,\n",
       " 1,\n",
       " 0,\n",
       " 1,\n",
       " 0,\n",
       " 1,\n",
       " 0,\n",
       " 1,\n",
       " 0,\n",
       " 1,\n",
       " 0,\n",
       " 1,\n",
       " 0,\n",
       " 1,\n",
       " 0,\n",
       " 1,\n",
       " 0,\n",
       " 1,\n",
       " 0,\n",
       " 1,\n",
       " 0,\n",
       " 1,\n",
       " 0,\n",
       " 1,\n",
       " 0,\n",
       " 1,\n",
       " 0,\n",
       " 1,\n",
       " 0,\n",
       " 1,\n",
       " 0,\n",
       " 1,\n",
       " 0,\n",
       " 1,\n",
       " 0]"
      ]
     },
     "execution_count": 26,
     "metadata": {},
     "output_type": "execute_result"
    }
   ],
   "source": [
    "labels"
   ]
  },
  {
   "cell_type": "code",
   "execution_count": 33,
   "id": "67eacbb9-b0f4-435a-bd20-9f7724d01a14",
   "metadata": {},
   "outputs": [],
   "source": [
    "model = MultinomialNB()"
   ]
  },
  {
   "cell_type": "code",
   "execution_count": 27,
   "id": "622d1fcd-7aaf-43e9-815a-f7c62c595194",
   "metadata": {},
   "outputs": [],
   "source": [
    "new_mail = np.array([\"Check out the latest updates on the project.\"])"
   ]
  },
  {
   "cell_type": "code",
   "execution_count": 28,
   "id": "b7a5592b-302c-42b4-b023-fc06b11e404b",
   "metadata": {},
   "outputs": [],
   "source": [
    "new_mail_vec = vactor.transform(new_mail)"
   ]
  },
  {
   "cell_type": "code",
   "execution_count": 29,
   "id": "56236beb-d07b-43dd-a5e7-5c3630ed5f10",
   "metadata": {},
   "outputs": [
    {
     "data": {
      "text/plain": [
       "array([[0, 0, 0, 0, 0, 0, 0, 0, 0, 0, 0, 0, 0, 0, 0, 0, 0, 0, 0, 0, 0, 0,\n",
       "        0, 0, 0, 1, 0, 0, 0, 0, 0, 0, 0, 0, 0, 0, 0, 0, 0, 0, 0, 0, 0, 0,\n",
       "        0, 0, 0, 0, 0, 0, 0, 0, 0, 0, 0, 0, 0, 0, 0, 0, 0, 0, 0, 0, 0, 0,\n",
       "        0, 0, 0, 0, 0, 0, 0, 0, 0, 0, 0, 1, 0, 0, 0, 0, 0, 0, 0, 0, 0, 0,\n",
       "        0, 0, 0, 0, 0, 0, 0, 0, 0, 0, 0, 0, 0, 0, 0, 0, 0, 0, 0, 1, 0, 0,\n",
       "        0, 0, 0, 0, 0, 0, 0, 0, 0, 0, 0, 0, 0, 0, 0, 0, 0, 0, 0, 0, 0, 0,\n",
       "        0, 0, 0, 0, 0, 0, 0, 0, 0, 0, 0, 0, 0, 0, 0, 0, 0, 0, 0, 1, 0, 0,\n",
       "        0, 0, 0, 0, 0, 0, 0, 0, 0, 0, 0, 0]])"
      ]
     },
     "execution_count": 29,
     "metadata": {},
     "output_type": "execute_result"
    }
   ],
   "source": [
    "new_mail_vec.toarray()"
   ]
  },
  {
   "cell_type": "code",
   "execution_count": 30,
   "id": "ae0ff058-58bf-49ac-837a-505ddf8df716",
   "metadata": {},
   "outputs": [
    {
     "ename": "NameError",
     "evalue": "name 'model' is not defined",
     "output_type": "error",
     "traceback": [
      "\u001b[1;31m---------------------------------------------------------------------------\u001b[0m",
      "\u001b[1;31mNameError\u001b[0m                                 Traceback (most recent call last)",
      "Cell \u001b[1;32mIn[30], line 1\u001b[0m\n\u001b[1;32m----> 1\u001b[0m \u001b[43mmodel\u001b[49m\u001b[38;5;241m.\u001b[39mpredict(new_mail_vec)\n",
      "\u001b[1;31mNameError\u001b[0m: name 'model' is not defined"
     ]
    }
   ],
   "source": [
    "model.predict(new_mail_vec)"
   ]
  },
  {
   "cell_type": "code",
   "execution_count": 31,
   "id": "398e9b9f-1010-4aa4-8d32-1f5911ee76d8",
   "metadata": {},
   "outputs": [],
   "source": [
    "def spam_mail_detector(mail):\n",
    "    arr = np.array([mail])\n",
    "    vec = vactor.transform(arr)\n",
    "    res = model.predict(vec)\n",
    "    return \"Spam\" if res[0] == 1 else \"Not Spam\""
   ]
  },
  {
   "cell_type": "code",
   "execution_count": 32,
   "id": "105761b3-fe3c-451a-8c58-6cad644b6cbc",
   "metadata": {},
   "outputs": [
    {
     "ename": "NameError",
     "evalue": "name 'model' is not defined",
     "output_type": "error",
     "traceback": [
      "\u001b[1;31m---------------------------------------------------------------------------\u001b[0m",
      "\u001b[1;31mNameError\u001b[0m                                 Traceback (most recent call last)",
      "Cell \u001b[1;32mIn[32], line 1\u001b[0m\n\u001b[1;32m----> 1\u001b[0m \u001b[43mspam_mail_detector\u001b[49m\u001b[43m(\u001b[49m\u001b[38;5;124;43m\"\u001b[39;49m\u001b[38;5;124;43mHey there, Congratulations you win lottery of 100000000\u001b[39;49m\u001b[38;5;124;43m\"\u001b[39;49m\u001b[43m)\u001b[49m\n",
      "Cell \u001b[1;32mIn[31], line 4\u001b[0m, in \u001b[0;36mspam_mail_detector\u001b[1;34m(mail)\u001b[0m\n\u001b[0;32m      2\u001b[0m arr \u001b[38;5;241m=\u001b[39m np\u001b[38;5;241m.\u001b[39marray([mail])\n\u001b[0;32m      3\u001b[0m vec \u001b[38;5;241m=\u001b[39m vactor\u001b[38;5;241m.\u001b[39mtransform(arr)\n\u001b[1;32m----> 4\u001b[0m res \u001b[38;5;241m=\u001b[39m \u001b[43mmodel\u001b[49m\u001b[38;5;241m.\u001b[39mpredict(vec)\n\u001b[0;32m      5\u001b[0m \u001b[38;5;28;01mreturn\u001b[39;00m \u001b[38;5;124m\"\u001b[39m\u001b[38;5;124mSpam\u001b[39m\u001b[38;5;124m\"\u001b[39m \u001b[38;5;28;01mif\u001b[39;00m res[\u001b[38;5;241m0\u001b[39m] \u001b[38;5;241m==\u001b[39m \u001b[38;5;241m1\u001b[39m \u001b[38;5;28;01melse\u001b[39;00m \u001b[38;5;124m\"\u001b[39m\u001b[38;5;124mNot Spam\u001b[39m\u001b[38;5;124m\"\u001b[39m\n",
      "\u001b[1;31mNameError\u001b[0m: name 'model' is not defined"
     ]
    }
   ],
   "source": [
    "spam_mail_detector(\"Hey there, Congratulations you win lottery of 100000000\")"
   ]
  },
  {
   "cell_type": "code",
   "execution_count": 34,
   "id": "c0404f45-97ca-46c2-9cad-000b57b163b2",
   "metadata": {},
   "outputs": [],
   "source": [
    "X_tr, X_te, y_tr, y_te = train_test_split(text_to_vec,labels,train_size=0.75,random_state=453)"
   ]
  },
  {
   "cell_type": "code",
   "execution_count": 35,
   "id": "6090eb0f-0d1c-47a9-a1e3-009b8fdf3017",
   "metadata": {},
   "outputs": [],
   "source": [
    "model2 = MultinomialNB()"
   ]
  },
  {
   "cell_type": "code",
   "execution_count": 37,
   "id": "a4055fb9-bb82-4578-9d60-2efd6f5edc8a",
   "metadata": {},
   "outputs": [
    {
     "data": {
      "text/plain": [
       "1.0"
      ]
     },
     "execution_count": 37,
     "metadata": {},
     "output_type": "execute_result"
    }
   ],
   "source": [
    "model2.fit(X_tr, y_tr)\n",
    "model2.score(X_tr, y_tr)"
   ]
  },
  {
   "cell_type": "code",
   "execution_count": 40,
   "id": "e2ec3da8-a4a2-494f-9c21-477eea618749",
   "metadata": {},
   "outputs": [
    {
     "ename": "NotFittedError",
     "evalue": "This MultinomialNB instance is not fitted yet. Call 'fit' with appropriate arguments before using this estimator.",
     "output_type": "error",
     "traceback": [
      "\u001b[1;31m---------------------------------------------------------------------------\u001b[0m",
      "\u001b[1;31mNotFittedError\u001b[0m                            Traceback (most recent call last)",
      "Cell \u001b[1;32mIn[40], line 1\u001b[0m\n\u001b[1;32m----> 1\u001b[0m y_pred \u001b[38;5;241m=\u001b[39m \u001b[43mmodel\u001b[49m\u001b[38;5;241;43m.\u001b[39;49m\u001b[43mpredict\u001b[49m\u001b[43m(\u001b[49m\u001b[43mX_te\u001b[49m\u001b[43m)\u001b[49m\n",
      "File \u001b[1;32m~\\AppData\\Local\\Programs\\Python\\Python311\\Lib\\site-packages\\sklearn\\naive_bayes.py:100\u001b[0m, in \u001b[0;36m_BaseNB.predict\u001b[1;34m(self, X)\u001b[0m\n\u001b[0;32m     86\u001b[0m \u001b[38;5;28;01mdef\u001b[39;00m \u001b[38;5;21mpredict\u001b[39m(\u001b[38;5;28mself\u001b[39m, X):\n\u001b[0;32m     87\u001b[0m \u001b[38;5;250m    \u001b[39m\u001b[38;5;124;03m\"\"\"\u001b[39;00m\n\u001b[0;32m     88\u001b[0m \u001b[38;5;124;03m    Perform classification on an array of test vectors X.\u001b[39;00m\n\u001b[0;32m     89\u001b[0m \n\u001b[1;32m   (...)\u001b[0m\n\u001b[0;32m     98\u001b[0m \u001b[38;5;124;03m        Predicted target values for X.\u001b[39;00m\n\u001b[0;32m     99\u001b[0m \u001b[38;5;124;03m    \"\"\"\u001b[39;00m\n\u001b[1;32m--> 100\u001b[0m     \u001b[43mcheck_is_fitted\u001b[49m\u001b[43m(\u001b[49m\u001b[38;5;28;43mself\u001b[39;49m\u001b[43m)\u001b[49m\n\u001b[0;32m    101\u001b[0m     X \u001b[38;5;241m=\u001b[39m \u001b[38;5;28mself\u001b[39m\u001b[38;5;241m.\u001b[39m_check_X(X)\n\u001b[0;32m    102\u001b[0m     jll \u001b[38;5;241m=\u001b[39m \u001b[38;5;28mself\u001b[39m\u001b[38;5;241m.\u001b[39m_joint_log_likelihood(X)\n",
      "File \u001b[1;32m~\\AppData\\Local\\Programs\\Python\\Python311\\Lib\\site-packages\\sklearn\\utils\\validation.py:1661\u001b[0m, in \u001b[0;36mcheck_is_fitted\u001b[1;34m(estimator, attributes, msg, all_or_any)\u001b[0m\n\u001b[0;32m   1658\u001b[0m     \u001b[38;5;28;01mraise\u001b[39;00m \u001b[38;5;167;01mTypeError\u001b[39;00m(\u001b[38;5;124m\"\u001b[39m\u001b[38;5;132;01m%s\u001b[39;00m\u001b[38;5;124m is not an estimator instance.\u001b[39m\u001b[38;5;124m\"\u001b[39m \u001b[38;5;241m%\u001b[39m (estimator))\n\u001b[0;32m   1660\u001b[0m \u001b[38;5;28;01mif\u001b[39;00m \u001b[38;5;129;01mnot\u001b[39;00m _is_fitted(estimator, attributes, all_or_any):\n\u001b[1;32m-> 1661\u001b[0m     \u001b[38;5;28;01mraise\u001b[39;00m NotFittedError(msg \u001b[38;5;241m%\u001b[39m {\u001b[38;5;124m\"\u001b[39m\u001b[38;5;124mname\u001b[39m\u001b[38;5;124m\"\u001b[39m: \u001b[38;5;28mtype\u001b[39m(estimator)\u001b[38;5;241m.\u001b[39m\u001b[38;5;18m__name__\u001b[39m})\n",
      "\u001b[1;31mNotFittedError\u001b[0m: This MultinomialNB instance is not fitted yet. Call 'fit' with appropriate arguments before using this estimator."
     ]
    }
   ],
   "source": [
    "y_pred = model.predict(X_te)"
   ]
  },
  {
   "cell_type": "code",
   "execution_count": 39,
   "id": "d1b29985-b6e5-43a3-b676-f68737e31c97",
   "metadata": {},
   "outputs": [
    {
     "ename": "NameError",
     "evalue": "name 'y_pred' is not defined",
     "output_type": "error",
     "traceback": [
      "\u001b[1;31m---------------------------------------------------------------------------\u001b[0m",
      "\u001b[1;31mNameError\u001b[0m                                 Traceback (most recent call last)",
      "Cell \u001b[1;32mIn[39], line 1\u001b[0m\n\u001b[1;32m----> 1\u001b[0m accuracy_score(y_te,\u001b[43my_pred\u001b[49m)\n",
      "\u001b[1;31mNameError\u001b[0m: name 'y_pred' is not defined"
     ]
    }
   ],
   "source": [
    "accuracy_score(y_te,y_pred)"
   ]
  },
  {
   "cell_type": "code",
   "execution_count": null,
   "id": "c5e06389-2fc4-4eef-bb1b-e41f97bfe1bc",
   "metadata": {},
   "outputs": [],
   "source": []
  }
 ],
 "metadata": {
  "kernelspec": {
   "display_name": "Python 3 (ipykernel)",
   "language": "python",
   "name": "python3"
  },
  "language_info": {
   "codemirror_mode": {
    "name": "ipython",
    "version": 3
   },
   "file_extension": ".py",
   "mimetype": "text/x-python",
   "name": "python",
   "nbconvert_exporter": "python",
   "pygments_lexer": "ipython3",
   "version": "3.11.9"
  }
 },
 "nbformat": 4,
 "nbformat_minor": 5
}
